{
 "cells": [
  {
   "cell_type": "markdown",
   "metadata": {},
   "source": [
    "# Merging two Data-sets\n",
    "(It took me a long time and a lot of reading about how dask computes the task but i got it working.)\n",
    "you will need npm, node.js and dask with pandas\n",
    "https://docs.dask.org/en/latest/install.html\n",
    "\n",
    "## First we define a localcluster and a client"
   ]
  },
  {
   "cell_type": "code",
   "execution_count": 1,
   "metadata": {},
   "outputs": [],
   "source": [
    "from dask.distributed import Client, LocalCluster\n",
    "cluster = LocalCluster()\n",
    "client = Client(cluster)"
   ]
  },
  {
   "cell_type": "markdown",
   "metadata": {},
   "source": [
    "## Some info about the client and all of our peons:"
   ]
  },
  {
   "cell_type": "code",
   "execution_count": 6,
   "metadata": {},
   "outputs": [
    {
     "data": {
      "text/html": [
       "<table style=\"border: 2px solid white;\">\n",
       "<tr>\n",
       "<td style=\"vertical-align: top; border: 0px solid white\">\n",
       "<h3 style=\"text-align: left;\">Client</h3>\n",
       "<ul style=\"text-align: left; list-style: none; margin: 0; padding: 0;\">\n",
       "  <li><b>Scheduler: </b>tcp://127.0.0.1:52807</li>\n",
       "  <li><b>Dashboard: </b><a href='http://127.0.0.1:8787/status' target='_blank'>http://127.0.0.1:8787/status</a></li>\n",
       "</ul>\n",
       "</td>\n",
       "<td style=\"vertical-align: top; border: 0px solid white\">\n",
       "<h3 style=\"text-align: left;\">Cluster</h3>\n",
       "<ul style=\"text-align: left; list-style:none; margin: 0; padding: 0;\">\n",
       "  <li><b>Workers: </b>4</li>\n",
       "  <li><b>Cores: </b>4</li>\n",
       "  <li><b>Memory: </b>8.51 GB</li>\n",
       "</ul>\n",
       "</td>\n",
       "</tr>\n",
       "</table>"
      ],
      "text/plain": [
       "<Client: 'tcp://127.0.0.1:52807' processes=4 threads=4, memory=8.51 GB>"
      ]
     },
     "execution_count": 6,
     "metadata": {},
     "output_type": "execute_result"
    }
   ],
   "source": [
    "client"
   ]
  },
  {
   "cell_type": "code",
   "execution_count": 4,
   "metadata": {},
   "outputs": [
    {
     "data": {
      "text/plain": [
       "{0: <Nanny: tcp://127.0.0.1:52838, threads: 1>,\n",
       " 1: <Nanny: tcp://127.0.0.1:52835, threads: 1>,\n",
       " 2: <Nanny: tcp://127.0.0.1:52829, threads: 1>,\n",
       " 3: <Nanny: tcp://127.0.0.1:52832, threads: 1>}"
      ]
     },
     "execution_count": 4,
     "metadata": {},
     "output_type": "execute_result"
    }
   ],
   "source": [
    "cluster.workers"
   ]
  },
  {
   "cell_type": "markdown",
   "metadata": {},
   "source": [
    "## Now, here is where the fun begins\n",
    "\n",
    "For some bizzare reason it took me almost a week to figure out dask.\n",
    "I don't want to blame the library for it but the fact that dask's errors are vague does not help at all.\n",
    "90% of the time i was geting a memory error and not much more to work with.\n",
    "\n",
    "back to the task\n",
    "\n",
    "## We need to read the tsv files to dataframes very simillar to those used by pandas\n",
    "Make sure to type in the right name of the file"
   ]
  },
  {
   "cell_type": "code",
   "execution_count": 5,
   "metadata": {},
   "outputs": [],
   "source": [
    "import dask.dataframe as dask\n",
    "\n",
    "df1 = dask.read_csv(\"title.basics.full.tsv\",sep='\\t',dtype=str)\n",
    "df1 = df1.set_index('tconst')\n",
    "\n",
    "df2 = dask.read_csv(\"title.ratings.full.tsv\",sep='\\t',dtype=str)\n",
    "df2 = df2.set_index('tconst')"
   ]
  },
  {
   "cell_type": "code",
   "execution_count": 7,
   "metadata": {},
   "outputs": [],
   "source": [
    "df1 = client.persist(df1)"
   ]
  },
  {
   "cell_type": "markdown",
   "metadata": {},
   "source": [
    "## Some lovely information about our datasets:"
   ]
  },
  {
   "cell_type": "code",
   "execution_count": 8,
   "metadata": {},
   "outputs": [
    {
     "data": {
      "text/html": [
       "<div>\n",
       "<style scoped>\n",
       "    .dataframe tbody tr th:only-of-type {\n",
       "        vertical-align: middle;\n",
       "    }\n",
       "\n",
       "    .dataframe tbody tr th {\n",
       "        vertical-align: top;\n",
       "    }\n",
       "\n",
       "    .dataframe thead th {\n",
       "        text-align: right;\n",
       "    }\n",
       "</style>\n",
       "<table border=\"1\" class=\"dataframe\">\n",
       "  <thead>\n",
       "    <tr style=\"text-align: right;\">\n",
       "      <th></th>\n",
       "      <th>titleType</th>\n",
       "      <th>primaryTitle</th>\n",
       "      <th>originalTitle</th>\n",
       "      <th>isAdult</th>\n",
       "      <th>startYear</th>\n",
       "      <th>endYear</th>\n",
       "      <th>runtimeMinutes</th>\n",
       "      <th>genres</th>\n",
       "    </tr>\n",
       "    <tr>\n",
       "      <th>tconst</th>\n",
       "      <th></th>\n",
       "      <th></th>\n",
       "      <th></th>\n",
       "      <th></th>\n",
       "      <th></th>\n",
       "      <th></th>\n",
       "      <th></th>\n",
       "      <th></th>\n",
       "    </tr>\n",
       "  </thead>\n",
       "  <tbody>\n",
       "    <tr>\n",
       "      <th>tt0000001</th>\n",
       "      <td>short</td>\n",
       "      <td>Carmencita</td>\n",
       "      <td>Carmencita</td>\n",
       "      <td>0</td>\n",
       "      <td>1894</td>\n",
       "      <td>\\N</td>\n",
       "      <td>1</td>\n",
       "      <td>Documentary,Short</td>\n",
       "    </tr>\n",
       "    <tr>\n",
       "      <th>tt0000002</th>\n",
       "      <td>short</td>\n",
       "      <td>Le clown et ses chiens</td>\n",
       "      <td>Le clown et ses chiens</td>\n",
       "      <td>0</td>\n",
       "      <td>1892</td>\n",
       "      <td>\\N</td>\n",
       "      <td>5</td>\n",
       "      <td>Animation,Short</td>\n",
       "    </tr>\n",
       "    <tr>\n",
       "      <th>tt0000003</th>\n",
       "      <td>short</td>\n",
       "      <td>Pauvre Pierrot</td>\n",
       "      <td>Pauvre Pierrot</td>\n",
       "      <td>0</td>\n",
       "      <td>1892</td>\n",
       "      <td>\\N</td>\n",
       "      <td>4</td>\n",
       "      <td>Animation,Comedy,Romance</td>\n",
       "    </tr>\n",
       "    <tr>\n",
       "      <th>tt0000004</th>\n",
       "      <td>short</td>\n",
       "      <td>Un bon bock</td>\n",
       "      <td>Un bon bock</td>\n",
       "      <td>0</td>\n",
       "      <td>1892</td>\n",
       "      <td>\\N</td>\n",
       "      <td>12</td>\n",
       "      <td>Animation,Short</td>\n",
       "    </tr>\n",
       "    <tr>\n",
       "      <th>tt0000005</th>\n",
       "      <td>short</td>\n",
       "      <td>Blacksmith Scene</td>\n",
       "      <td>Blacksmith Scene</td>\n",
       "      <td>0</td>\n",
       "      <td>1893</td>\n",
       "      <td>\\N</td>\n",
       "      <td>1</td>\n",
       "      <td>Comedy,Short</td>\n",
       "    </tr>\n",
       "  </tbody>\n",
       "</table>\n",
       "</div>"
      ],
      "text/plain": [
       "          titleType            primaryTitle           originalTitle isAdult  \\\n",
       "tconst                                                                        \n",
       "tt0000001     short              Carmencita              Carmencita       0   \n",
       "tt0000002     short  Le clown et ses chiens  Le clown et ses chiens       0   \n",
       "tt0000003     short          Pauvre Pierrot          Pauvre Pierrot       0   \n",
       "tt0000004     short             Un bon bock             Un bon bock       0   \n",
       "tt0000005     short        Blacksmith Scene        Blacksmith Scene       0   \n",
       "\n",
       "          startYear endYear runtimeMinutes                    genres  \n",
       "tconst                                                                \n",
       "tt0000001      1894      \\N              1         Documentary,Short  \n",
       "tt0000002      1892      \\N              5           Animation,Short  \n",
       "tt0000003      1892      \\N              4  Animation,Comedy,Romance  \n",
       "tt0000004      1892      \\N             12           Animation,Short  \n",
       "tt0000005      1893      \\N              1              Comedy,Short  "
      ]
     },
     "execution_count": 8,
     "metadata": {},
     "output_type": "execute_result"
    }
   ],
   "source": [
    "df1.head()"
   ]
  },
  {
   "cell_type": "code",
   "execution_count": 9,
   "metadata": {},
   "outputs": [
    {
     "data": {
      "text/html": [
       "<div>\n",
       "<style scoped>\n",
       "    .dataframe tbody tr th:only-of-type {\n",
       "        vertical-align: middle;\n",
       "    }\n",
       "\n",
       "    .dataframe tbody tr th {\n",
       "        vertical-align: top;\n",
       "    }\n",
       "\n",
       "    .dataframe thead th {\n",
       "        text-align: right;\n",
       "    }\n",
       "</style>\n",
       "<table border=\"1\" class=\"dataframe\">\n",
       "  <thead>\n",
       "    <tr style=\"text-align: right;\">\n",
       "      <th></th>\n",
       "      <th>averageRating</th>\n",
       "      <th>numVotes</th>\n",
       "    </tr>\n",
       "    <tr>\n",
       "      <th>tconst</th>\n",
       "      <th></th>\n",
       "      <th></th>\n",
       "    </tr>\n",
       "  </thead>\n",
       "  <tbody>\n",
       "    <tr>\n",
       "      <th>tt0000001</th>\n",
       "      <td>5.6</td>\n",
       "      <td>1660</td>\n",
       "    </tr>\n",
       "    <tr>\n",
       "      <th>tt0000002</th>\n",
       "      <td>6.1</td>\n",
       "      <td>203</td>\n",
       "    </tr>\n",
       "    <tr>\n",
       "      <th>tt0000003</th>\n",
       "      <td>6.5</td>\n",
       "      <td>1373</td>\n",
       "    </tr>\n",
       "    <tr>\n",
       "      <th>tt0000004</th>\n",
       "      <td>6.2</td>\n",
       "      <td>123</td>\n",
       "    </tr>\n",
       "    <tr>\n",
       "      <th>tt0000005</th>\n",
       "      <td>6.2</td>\n",
       "      <td>2161</td>\n",
       "    </tr>\n",
       "  </tbody>\n",
       "</table>\n",
       "</div>"
      ],
      "text/plain": [
       "          averageRating numVotes\n",
       "tconst                          \n",
       "tt0000001           5.6     1660\n",
       "tt0000002           6.1      203\n",
       "tt0000003           6.5     1373\n",
       "tt0000004           6.2      123\n",
       "tt0000005           6.2     2161"
      ]
     },
     "execution_count": 9,
     "metadata": {},
     "output_type": "execute_result"
    }
   ],
   "source": [
    "df2.head()"
   ]
  },
  {
   "cell_type": "markdown",
   "metadata": {},
   "source": [
    "## This is just one of possible variations on joining data-sets"
   ]
  },
  {
   "cell_type": "code",
   "execution_count": 10,
   "metadata": {},
   "outputs": [],
   "source": [
    "result = dask.merge(df1, df2, left_on='tconst', right_on='tconst').compute()"
   ]
  },
  {
   "cell_type": "markdown",
   "metadata": {},
   "source": [
    "## Let's se what we got:"
   ]
  },
  {
   "cell_type": "code",
   "execution_count": 11,
   "metadata": {},
   "outputs": [
    {
     "data": {
      "text/html": [
       "<div>\n",
       "<style scoped>\n",
       "    .dataframe tbody tr th:only-of-type {\n",
       "        vertical-align: middle;\n",
       "    }\n",
       "\n",
       "    .dataframe tbody tr th {\n",
       "        vertical-align: top;\n",
       "    }\n",
       "\n",
       "    .dataframe thead th {\n",
       "        text-align: right;\n",
       "    }\n",
       "</style>\n",
       "<table border=\"1\" class=\"dataframe\">\n",
       "  <thead>\n",
       "    <tr style=\"text-align: right;\">\n",
       "      <th></th>\n",
       "      <th>titleType</th>\n",
       "      <th>primaryTitle</th>\n",
       "      <th>originalTitle</th>\n",
       "      <th>isAdult</th>\n",
       "      <th>startYear</th>\n",
       "      <th>endYear</th>\n",
       "      <th>runtimeMinutes</th>\n",
       "      <th>genres</th>\n",
       "      <th>averageRating</th>\n",
       "      <th>numVotes</th>\n",
       "    </tr>\n",
       "    <tr>\n",
       "      <th>tconst</th>\n",
       "      <th></th>\n",
       "      <th></th>\n",
       "      <th></th>\n",
       "      <th></th>\n",
       "      <th></th>\n",
       "      <th></th>\n",
       "      <th></th>\n",
       "      <th></th>\n",
       "      <th></th>\n",
       "      <th></th>\n",
       "    </tr>\n",
       "  </thead>\n",
       "  <tbody>\n",
       "    <tr>\n",
       "      <th>tt0000001</th>\n",
       "      <td>short</td>\n",
       "      <td>Carmencita</td>\n",
       "      <td>Carmencita</td>\n",
       "      <td>0</td>\n",
       "      <td>1894</td>\n",
       "      <td>\\N</td>\n",
       "      <td>1</td>\n",
       "      <td>Documentary,Short</td>\n",
       "      <td>5.6</td>\n",
       "      <td>1660</td>\n",
       "    </tr>\n",
       "    <tr>\n",
       "      <th>tt0000002</th>\n",
       "      <td>short</td>\n",
       "      <td>Le clown et ses chiens</td>\n",
       "      <td>Le clown et ses chiens</td>\n",
       "      <td>0</td>\n",
       "      <td>1892</td>\n",
       "      <td>\\N</td>\n",
       "      <td>5</td>\n",
       "      <td>Animation,Short</td>\n",
       "      <td>6.1</td>\n",
       "      <td>203</td>\n",
       "    </tr>\n",
       "    <tr>\n",
       "      <th>tt0000003</th>\n",
       "      <td>short</td>\n",
       "      <td>Pauvre Pierrot</td>\n",
       "      <td>Pauvre Pierrot</td>\n",
       "      <td>0</td>\n",
       "      <td>1892</td>\n",
       "      <td>\\N</td>\n",
       "      <td>4</td>\n",
       "      <td>Animation,Comedy,Romance</td>\n",
       "      <td>6.5</td>\n",
       "      <td>1373</td>\n",
       "    </tr>\n",
       "    <tr>\n",
       "      <th>tt0000004</th>\n",
       "      <td>short</td>\n",
       "      <td>Un bon bock</td>\n",
       "      <td>Un bon bock</td>\n",
       "      <td>0</td>\n",
       "      <td>1892</td>\n",
       "      <td>\\N</td>\n",
       "      <td>12</td>\n",
       "      <td>Animation,Short</td>\n",
       "      <td>6.2</td>\n",
       "      <td>123</td>\n",
       "    </tr>\n",
       "    <tr>\n",
       "      <th>tt0000005</th>\n",
       "      <td>short</td>\n",
       "      <td>Blacksmith Scene</td>\n",
       "      <td>Blacksmith Scene</td>\n",
       "      <td>0</td>\n",
       "      <td>1893</td>\n",
       "      <td>\\N</td>\n",
       "      <td>1</td>\n",
       "      <td>Comedy,Short</td>\n",
       "      <td>6.2</td>\n",
       "      <td>2161</td>\n",
       "    </tr>\n",
       "  </tbody>\n",
       "</table>\n",
       "</div>"
      ],
      "text/plain": [
       "          titleType            primaryTitle           originalTitle isAdult  \\\n",
       "tconst                                                                        \n",
       "tt0000001     short              Carmencita              Carmencita       0   \n",
       "tt0000002     short  Le clown et ses chiens  Le clown et ses chiens       0   \n",
       "tt0000003     short          Pauvre Pierrot          Pauvre Pierrot       0   \n",
       "tt0000004     short             Un bon bock             Un bon bock       0   \n",
       "tt0000005     short        Blacksmith Scene        Blacksmith Scene       0   \n",
       "\n",
       "          startYear endYear runtimeMinutes                    genres  \\\n",
       "tconst                                                                 \n",
       "tt0000001      1894      \\N              1         Documentary,Short   \n",
       "tt0000002      1892      \\N              5           Animation,Short   \n",
       "tt0000003      1892      \\N              4  Animation,Comedy,Romance   \n",
       "tt0000004      1892      \\N             12           Animation,Short   \n",
       "tt0000005      1893      \\N              1              Comedy,Short   \n",
       "\n",
       "          averageRating numVotes  \n",
       "tconst                            \n",
       "tt0000001           5.6     1660  \n",
       "tt0000002           6.1      203  \n",
       "tt0000003           6.5     1373  \n",
       "tt0000004           6.2      123  \n",
       "tt0000005           6.2     2161  "
      ]
     },
     "execution_count": 11,
     "metadata": {},
     "output_type": "execute_result"
    }
   ],
   "source": [
    "result.head()"
   ]
  },
  {
   "cell_type": "markdown",
   "metadata": {},
   "source": [
    "look's about right, no column was lost and there is no duplicates to be seen"
   ]
  },
  {
   "cell_type": "code",
   "execution_count": 12,
   "metadata": {},
   "outputs": [],
   "source": [
    "result.to_csv('all_videos.tsv', sep='\\t')"
   ]
  },
  {
   "cell_type": "markdown",
   "metadata": {},
   "source": [
    "And at long last we finnaly got to the finish line and it took little to no time compared to `merge_tsv_low_memory_use.py`"
   ]
  },
  {
   "cell_type": "markdown",
   "metadata": {},
   "source": [
    "# Extracting all records of type \"movie\""
   ]
  },
  {
   "cell_type": "markdown",
   "metadata": {},
   "source": [
    "## First let me implement some libs"
   ]
  },
  {
   "cell_type": "code",
   "execution_count": null,
   "metadata": {},
   "outputs": [],
   "source": [
    "import csv\n",
    "import os"
   ]
  },
  {
   "cell_type": "markdown",
   "metadata": {},
   "source": [
    "The whole script is pretty simple, I opened a destination file and with that after also opening the 'all_videos.tsv' file i simply went over every single record in it and saved the ones that have a type movie as at least one of them (the script breaks down when we implement a category that has movie in it like \"horror movie\" it won't treat is as movie and skip it, but i think that based on how dataset is filled it should not happen) "
   ]
  },
  {
   "cell_type": "code",
   "execution_count": null,
   "metadata": {},
   "outputs": [],
   "source": [
    "with open(os.path.join(os.path.dirname(__file__), 'movies.tsv'), 'w', newline='',encoding='utf8') as result:\n",
    "    writer = csv.writer(result, delimiter ='\\t')\n",
    "    with open(os.path.join(os.path.dirname(__file__), 'all_videos.tsv'),encoding='utf8') as videos:\n",
    "        movie_list = videos.readline().split('\\t')\n",
    "        movie_list[len(movie_list)-1] = movie_list[len(movie_list)-1].replace('\\n', '')\n",
    "        writer.writerow(movie_list)\n",
    "        print(movie_list)\n",
    "        \n",
    "        \n",
    "        for line_videos in videos:\n",
    "            if line_videos.split('\\t')[1] == 'movie':\n",
    "                movie_list=line_videos.split('\\t')\n",
    "                movie_list[len(movie_list)-1] = movie_list[len(movie_list)-1].replace('\\n', '')\n",
    "                writer.writerow(movie_list)"
   ]
  },
  {
   "cell_type": "markdown",
   "metadata": {},
   "source": [
    "# Rating all videos by year and by generes "
   ]
  },
  {
   "cell_type": "markdown",
   "metadata": {},
   "source": [
    "## We will be using the same set of libs as before so i skipped it this time, if you didn't run it earlier you need to run the first block of the \"chapter\" above"
   ]
  },
  {
   "cell_type": "markdown",
   "metadata": {},
   "source": [
    "I need to admit, the code is pretty messy, it's a lot of if's and for's but i found it to be sufficiently fast.\n",
    "So, i opened both files, the result and the source, splitting them by \\t and so on, then i started looking for every line in `all_videos.tsv`\n",
    "```python\n",
    "for videos_line in videos:\n",
    "```\n",
    "in every line i checked if the genres column is not empty\n",
    "```python\n",
    "if videos_line.split('\\t')[9]!='' and videos_line.split('\\t')[10]!='' :\n",
    "```\n",
    "then when that was confirmed i started to look for matching genres in the result file\n",
    "```python \n",
    "for videos_genre in videos_line.split('\\t')[8].split(','):\n",
    "                    found = False\n",
    "                    \n",
    "                    for result_element in range(len(result_list)):\n",
    "```\n",
    "if the script finds matching genres I need to somehow add the rating to already calculated mean. I did that by multiplying the mean by numbers of elements stored in the last column and then adding new rating to this result and adding one to the total count of accounted records, after that i just reversed the process so i used this formula.\n",
    "```\n",
    "total = mean * count\n",
    "new total = total + new rating\n",
    "new count = count ++ \n",
    "new mean = new total / new count\n",
    "```\n",
    "I just squished it into one line so that i can store it in the variable right away because from what i know pyhton is very good at counting but not as good in storing variables every line and that would add a significant amount of processing time in case of very large files."
   ]
  },
  {
   "cell_type": "markdown",
   "metadata": {},
   "source": [
    "If scirpt doesnt find a match i just create one real quick and set total count to 1"
   ]
  },
  {
   "cell_type": "code",
   "execution_count": null,
   "metadata": {},
   "outputs": [],
   "source": [
    "with open(os.path.join(os.path.dirname(__file__), 'movie_rating_by_genres.tsv'), 'w', newline='',encoding='utf8') as result:\n",
    "    writer = csv.writer(result, delimiter ='\\t')\n",
    "    writer.writerow(['genre', 'averageRating', 'totalCount'])\n",
    "\n",
    "    with open(os.path.join(os.path.dirname(__file__), 'all_videos.tsv'),encoding='utf8') as videos:\n",
    "        videos.readline()\n",
    "        result_list = []\n",
    "        for videos_line in videos:\n",
    "            if videos_line.split('\\t')[9]!='' and videos_line.split('\\t')[10]!='' :\n",
    "                for videos_genre in videos_line.split('\\t')[8].split(','):\n",
    "                    found = False\n",
    "                    \n",
    "                    for result_element in range(len(result_list)):\n",
    "                        \n",
    "                        if videos_genre == result_list[result_element][0]:\n",
    "                            result_list[result_element][1]=(float(result_list[result_element][1]) * float(result_list[result_element][2]) + float(videos_line.split('\\t')[9]))/(float(result_list[result_element][2])+1.0)\n",
    "                            result_list[result_element][2] = result_list[result_element][2] + 1\n",
    "                            found = True\n",
    "                            \n",
    "                    if not found:\n",
    "                        result_list.append([videos_genre, videos_line.split('\\t')[9], 1])\n",
    "                        found = True\n",
    "                        \n",
    "        for elem in result_list:\n",
    "            writer.writerow(elem)"
   ]
  },
  {
   "cell_type": "markdown",
   "metadata": {},
   "source": [
    "## Both rating scripts work basically the same"
   ]
  },
  {
   "cell_type": "markdown",
   "metadata": {},
   "source": [
    "The easy part in rating by year is that there will always be only one year per record so i dont need to iterate through it like i did above"
   ]
  },
  {
   "cell_type": "code",
   "execution_count": null,
   "metadata": {},
   "outputs": [],
   "source": [
    "with open(os.path.join(os.path.dirname(__file__), 'movie_rating_by_year.tsv'), 'w', newline='',encoding='utf8') as result:\n",
    "    writer = csv.writer(result, delimiter ='\\t')\n",
    "    writer.writerow(['year', 'averageRating', 'totalCount'])\n",
    "\n",
    "    with open(os.path.join(os.path.dirname(__file__), 'all_videos.tsv'),encoding='utf8') as videos:\n",
    "        videos.readline()\n",
    "        result_list = []\n",
    "        for videos_line in videos:\n",
    "            if videos_line.split('\\t')[9]!='' and videos_line.split('\\t')[10]!='' :\n",
    "                found = False\n",
    "                for result_element in range(len(result_list)):\n",
    "                    if videos_line.split('\\t')[5] == result_list[result_element][0]:\n",
    "                        result_list[result_element][1]=(float(result_list[result_element][1]) * float(result_list[result_element][2]) + float(videos_line.split('\\t')[9]))/(float(result_list[result_element][2])+1.0)\n",
    "                        result_list[result_element][2] = result_list[result_element][2] + 1\n",
    "                        found = True\n",
    "                if not found:\n",
    "                        result_list.append([videos_line.split('\\t')[5], videos_line.split('\\t')[9], 1])\n",
    "                        found = True\n",
    "        for elem in result_list:\n",
    "            writer.writerow(elem)"
   ]
  },
  {
   "cell_type": "markdown",
   "metadata": {},
   "source": [
    "# Plotting the results"
   ]
  },
  {
   "cell_type": "markdown",
   "metadata": {},
   "source": [
    "## Some good'ol imports"
   ]
  },
  {
   "cell_type": "code",
   "execution_count": null,
   "metadata": {},
   "outputs": [],
   "source": [
    "import pandas as pd\n",
    "import matplotlib.pyplot as plt\n",
    "import os"
   ]
  },
  {
   "cell_type": "markdown",
   "metadata": {},
   "source": [
    "When it comes to ploting, well, bussines as usual, we use matplot lib to save the png of the charts, pandas for reading the dataframes and os for ... well it's just ther for the path..."
   ]
  },
  {
   "cell_type": "code",
   "execution_count": null,
   "metadata": {},
   "outputs": [],
   "source": [
    "a= pd.read_csv(os.path.join(os.path.dirname(__file__), \"movie_rating_by_year.tsv\"),sep='\\t',low_memory=False,memory_map=True)\n",
    "a.plot.scatter(x='year', y='averageRating')\n",
    "plt.savefig(os.path.join(os.path.dirname(__file__), 'movie_rating_by_year.png'))\n",
    "a= pd.read_csv(os.path.join(os.path.dirname(__file__), \"movie_rating_by_genres.tsv\"),sep='\\t',low_memory=False,memory_map=True)\n",
    "a.plot.scatter(x='genre', y='averageRating', s=20).tick_params(axis='x', rotation=-37,direction= 'in',labelsize=7)\n",
    "\n",
    "plt.savefig(os.path.join(os.path.dirname(__file__), 'movie_rating_by_genre.png'))"
   ]
  }
 ],
 "metadata": {
  "kernelspec": {
   "display_name": "Python 3",
   "language": "python",
   "name": "python3"
  },
  "language_info": {
   "codemirror_mode": {
    "name": "ipython",
    "version": 3
   },
   "file_extension": ".py",
   "mimetype": "text/x-python",
   "name": "python",
   "nbconvert_exporter": "python",
   "pygments_lexer": "ipython3",
   "version": "3.8.5"
  }
 },
 "nbformat": 4,
 "nbformat_minor": 4
}